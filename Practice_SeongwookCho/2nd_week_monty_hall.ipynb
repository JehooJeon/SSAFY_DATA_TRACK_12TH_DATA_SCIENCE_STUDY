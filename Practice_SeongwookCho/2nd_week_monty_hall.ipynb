{
 "cells": [
  {
   "cell_type": "markdown",
   "metadata": {},
   "source": [
    "## 몬티홀 문제"
   ]
  },
  {
   "cell_type": "code",
   "execution_count": 1,
   "metadata": {},
   "outputs": [],
   "source": [
    "import random\n",
    "\n",
    "def monty_hall_simulation(switch, trials = 10000):\n",
    "\n",
    "    wins = 0\n",
    "    \n",
    "    for _ in range(trials):\n",
    "        # 3개의 문 중 하나를 무작위로 선택합니다 (0, 1, 2)\n",
    "        car_position = random.randint(0, 2)\n",
    "        player_choice = random.randint(0, 2)\n",
    "\n",
    "        # 사회자가 열 수 있는 문들을 찾습니다\n",
    "        remaining_doors = []\n",
    "        for door in range(3):\n",
    "            if door != player_choice and door != car_position:\n",
    "                remaining_doors.append(door)\n",
    "        \n",
    "        monty_opens = random.choice(remaining_doors)\n",
    "\n",
    "        # 플레이어가 문을 바꾼다면\n",
    "        if switch:\n",
    "            for door in range(3):\n",
    "                if door != player_choice and door != monty_opens:\n",
    "                    player_choice = door\n",
    "                    break\n",
    "\n",
    "        # 플레이어가 차를 얻는 경우\n",
    "        if player_choice == car_position:\n",
    "            wins += 1\n",
    "\n",
    "    # 이길 확률을 반환합니다\n",
    "    return wins / trials"
   ]
  },
  {
   "cell_type": "code",
   "execution_count": 2,
   "metadata": {},
   "outputs": [
    {
     "name": "stdout",
     "output_type": "stream",
     "text": [
      "바꾸지 않는 경우 이길 확률: 32.65%\n",
      "바꾸는 경우 이길 확률: 66.77%\n"
     ]
    }
   ],
   "source": [
    "# 시뮬레이션 실행\n",
    "no_switching = monty_hall_simulation(switch=False)\n",
    "switching = monty_hall_simulation(switch=True)\n",
    "\n",
    "\n",
    "print(f\"바꾸지 않는 경우 이길 확률: {no_switching:.2%}\")\n",
    "print(f\"바꾸는 경우 이길 확률: {switching:.2%}\")"
   ]
  }
 ],
 "metadata": {
  "kernelspec": {
   "display_name": "Python 3",
   "language": "python",
   "name": "python3"
  },
  "language_info": {
   "codemirror_mode": {
    "name": "ipython",
    "version": 3
   },
   "file_extension": ".py",
   "mimetype": "text/x-python",
   "name": "python",
   "nbconvert_exporter": "python",
   "pygments_lexer": "ipython3",
   "version": "3.9.13"
  }
 },
 "nbformat": 4,
 "nbformat_minor": 2
}
